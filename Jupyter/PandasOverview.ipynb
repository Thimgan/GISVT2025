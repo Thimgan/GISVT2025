{
 "cells": [
  {
   "cell_type": "markdown",
   "metadata": {},
   "source": [
    "[Pandas API reference](https://pandas.pydata.org/docs/reference/index.html)\n",
    "\n",
    "[Numpy API reference](https://numpy.org/doc/stable/reference/)"
   ]
  },
  {
   "cell_type": "code",
   "execution_count": null,
   "metadata": {},
   "outputs": [],
   "source": [
    "import pandas as pd\n",
    "import numpy as np"
   ]
  },
  {
   "cell_type": "markdown",
   "metadata": {},
   "source": [
    "<h1>Series</h1>\n",
    "\n",
    "a Series is like a “column” of data, a group of observations.\n",
    "\n",
    "You can optionally provide a name for the series.\n",
    "\n",
    "If an index isn't provided, Pandas will automatically generate one to uniquly identify each value in the series."
   ]
  },
  {
   "cell_type": "code",
   "execution_count": null,
   "metadata": {},
   "outputs": [],
   "source": [
    "s = pd.Series([279168,  319750,  262959,  311343,  235132,  169791,  250624,  241461,  298505,  236149,  394668,\n",
    "                 401353, 440978, 309764, 321404, 422716, 315285, 251290, 312562, 172683], name = 'Parcel Previous Values')\n",
    "print(s)"
   ]
  },
  {
   "cell_type": "markdown",
   "metadata": {},
   "source": [
    "You can select an individual value by using it's index.\n",
    "\n",
    "s[index]\n",
    "\n",
    "And can also filter the series by providing a predicate.\n",
    "\n",
    "s[predicate]"
   ]
  },
  {
   "cell_type": "code",
   "execution_count": null,
   "metadata": {},
   "outputs": [],
   "source": [
    "print(f\"The value of item #17 is {s[17]}\")\n",
    "print(\"Values larger than $300,000\")\n",
    "print(s[s > 350_000])"
   ]
  },
  {
   "cell_type": "markdown",
   "metadata": {},
   "source": [
    "Pandas Series are built on top of NumPy arrays and support many similar operations."
   ]
  },
  {
   "cell_type": "code",
   "execution_count": null,
   "metadata": {},
   "outputs": [],
   "source": [
    "# Round all previous values to the nearest $100\n",
    "print(((s / 100).round() * 100).astype(int))"
   ]
  },
  {
   "cell_type": "code",
   "execution_count": null,
   "metadata": {},
   "outputs": [],
   "source": [
    "# Series also have built in data exploration functions\n",
    "s.describe()"
   ]
  },
  {
   "cell_type": "code",
   "execution_count": null,
   "metadata": {},
   "outputs": [],
   "source": [
    "# The default index can be replaced with a more meaningful value.\n",
    "s.index = ['W29MU7581', 'S64GI7738', 'K89KV4863', 'Q52JT7514', 'A39EA7560', 'V25HQ0513', 'M81SE0853', 'F47JY4077',\n",
    "           'U58BX6874', 'N43JY5958', 'Y49IM4670', 'N18AF8472', 'K96LF7279', 'I57UF2957', 'N54UV6765', 'D37LA7488', \n",
    "           'F48UO4632', 'Y09CT8886', 'K07IP9486', 'J73VD8024']\n",
    "\n",
    "s"
   ]
  },
  {
   "cell_type": "code",
   "execution_count": null,
   "metadata": {},
   "outputs": [],
   "source": [
    "# Specific values can be retrieved by their corresponding index.\n",
    "print(s['D37LA7488'])\n",
    "\n",
    "# Updates are also applied using the index.\n",
    "s['D37LA7488'] = 500000\n",
    "print(s['D37LA7488'])"
   ]
  },
  {
   "cell_type": "code",
   "execution_count": null,
   "metadata": {},
   "outputs": [],
   "source": [
    "# the 'in' operator can be used to determine if a specific index exists within the series.\n",
    "print('D37LA7488' in s)\n",
    "print('XXXXXXXXX' in s)"
   ]
  },
  {
   "cell_type": "markdown",
   "metadata": {},
   "source": [
    "<h1>DataFrames</h1>\n",
    "While a Series is a single column of data, a DataFrame is several columns, one for each variable.\n",
    "\n",
    "In essence, a DataFrame in pandas is analogous to a (highly optimized) Excel spreadsheet.\n",
    "\n",
    "Thus, it is a powerful tool for representing and analyzing data that are naturally organized into rows and columns, often with descriptive indexes for individual rows and individual columns.\n",
    "\n",
    "Let’s look at an example that reads data from the CSV file SampleParcelData.csv.\n",
    "\n",
    "The dataset contains the following indicators\n",
    "\n",
    "<table style=\"border: 1px solid; text-align: center;\">\n",
    "    <tr><th style=\"border: 1px solid\"><b>Variable Name</b></th><th style=\"border: 1px solid; text-align: center;\"><b>Description</b></th></tr>\n",
    "    <tr><td style=\"border: 1px solid\">Parcel_Id</td><td style=\"border: 1px solid\">Parcel identificaton number</td></tr>\n",
    "    <tr><td style=\"border: 1px solid\">Address</td><td style=\"border: 1px solid\">Parcel address</td></tr>\n",
    "    <tr><td style=\"border: 1px solid\">YearBuilt</td><td style=\"border: 1px solid\">Year parcel was constructed</td></tr>\n",
    "    <tr><td style=\"border: 1px solid\">LivingArea</td><td style=\"border: 1px solid\">Sqft under air</td></tr>\n",
    "    <tr><td style=\"border: 1px solid\">LandSQFT</td><td style=\"border: 1px solid\">Land size in sq. ft.</td></tr>    \n",
    "</table>\n",
    "\n",
    "We can read in this data from a csv file."
   ]
  },
  {
   "cell_type": "code",
   "execution_count": null,
   "metadata": {},
   "outputs": [],
   "source": [
    "df = pd.read_csv('..//data//SampleParcelData.csv')\n",
    "df"
   ]
  },
  {
   "cell_type": "markdown",
   "metadata": {},
   "source": [
    "<h4>Select Data by Position</h4>\n",
    "One thing that we do all the time is to find, select and work with a subset of the data of our interests.\n",
    "\n",
    "Subsetting a dataframe is known as slicing.  Pandas DataFrames offer several methods for slicing data, primarily using label-based indexing with .loc and integer-based indexing with .iloc. There are also ways to slice using boolean indexing and callable functions."
   ]
  },
  {
   "cell_type": "code",
   "execution_count": null,
   "metadata": {},
   "outputs": [],
   "source": [
    "# Slicing using standard Python slicing notation\n",
    "\n",
    "df[5:8]"
   ]
  },
  {
   "cell_type": "code",
   "execution_count": null,
   "metadata": {},
   "outputs": [],
   "source": [
    "# column selection using column name\n",
    "df[\"YearBuilt\"]"
   ]
  },
  {
   "cell_type": "code",
   "execution_count": null,
   "metadata": {},
   "outputs": [],
   "source": [
    "# column selection using a list of strings\n",
    "df[[\"YearBuilt\", \"LivingArea\"]]"
   ]
  },
  {
   "cell_type": "code",
   "execution_count": null,
   "metadata": {},
   "outputs": [],
   "source": [
    "# Creating a boolean list\n",
    "large_size = df['LivingArea'] > 3000\n",
    "print(large_size)"
   ]
  },
  {
   "cell_type": "code",
   "execution_count": null,
   "metadata": {},
   "outputs": [],
   "source": [
    "# slicing by boolean list\n",
    "df[large_size]"
   ]
  },
  {
   "cell_type": "markdown",
   "metadata": {},
   "source": [
    "<h4>.loc (Label-based slicing):</h4>\n",
    "This method uses labels (row and column names) to select data. It includes the start and stop labels in the slice.\n"
   ]
  },
  {
   "cell_type": "code",
   "execution_count": null,
   "metadata": {},
   "outputs": [],
   "source": [
    "# df.loc[ROW SELECTION, COLUMN SELECTION (optional)]\n",
    "df.loc[0:3]\n"
   ]
  },
  {
   "cell_type": "code",
   "execution_count": null,
   "metadata": {},
   "outputs": [],
   "source": [
    "# Single column selection\n",
    "df.loc[:3, 'LivingArea']"
   ]
  },
  {
   "cell_type": "code",
   "execution_count": null,
   "metadata": {},
   "outputs": [],
   "source": [
    "# multiple column selection\n",
    "df.loc[7:10, ['Parcel_Id', 'YearBuilt', 'LivingArea']]"
   ]
  },
  {
   "cell_type": "code",
   "execution_count": null,
   "metadata": {},
   "outputs": [],
   "source": [
    "# multiple column selection all rows\n",
    "df.loc[:, ['Parcel_Id', 'YearBuilt', 'LivingArea']]"
   ]
  },
  {
   "cell_type": "code",
   "execution_count": null,
   "metadata": {},
   "outputs": [],
   "source": [
    "df.loc[1:3, 'YearBuilt':'LivingArea']"
   ]
  },
  {
   "cell_type": "code",
   "execution_count": null,
   "metadata": {},
   "outputs": [],
   "source": [
    "# Change index to a meaningful values instead of the default\n",
    "df2 = df.set_index('Parcel_Id')\n",
    "df2"
   ]
  },
  {
   "cell_type": "code",
   "execution_count": null,
   "metadata": {},
   "outputs": [],
   "source": [
    "df2.loc['A39EA7560']"
   ]
  },
  {
   "cell_type": "code",
   "execution_count": null,
   "metadata": {},
   "outputs": [],
   "source": [
    "# row and column slicing\n",
    "df2.loc['W29MU7581':'I57UF2957', 'LivingArea' : 'LandSQFT']"
   ]
  },
  {
   "cell_type": "code",
   "execution_count": null,
   "metadata": {},
   "outputs": [],
   "source": [
    "# slice list of rows\n",
    "df2.loc[['U58BX6874', 'Y49IM4670', 'N18AF8472']]"
   ]
  },
  {
   "cell_type": "code",
   "execution_count": null,
   "metadata": {},
   "outputs": [],
   "source": [
    "# slicing by boolean list\n",
    "large_size = df2['LivingArea'] >3000\n",
    "df2.loc[large_size]"
   ]
  },
  {
   "cell_type": "code",
   "execution_count": null,
   "metadata": {},
   "outputs": [],
   "source": [
    "# slicing py predicate\n",
    "df2[df2['LandSQFT'] > 30000]"
   ]
  },
  {
   "cell_type": "markdown",
   "metadata": {},
   "source": [
    "<h4>.iloc (Integer-based slicing):</h4>\n",
    "This method uses integer positions to select data, similar to standard Python list indexing. It excludes the stop index in the slice."
   ]
  },
  {
   "cell_type": "code",
   "execution_count": null,
   "metadata": {},
   "outputs": [],
   "source": [
    "# single row: df.iloc[row_index, column_index (optional)]\n",
    "df2.iloc[2]"
   ]
  },
  {
   "cell_type": "code",
   "execution_count": null,
   "metadata": {},
   "outputs": [],
   "source": [
    "# single column df.iloc[row_index1:row_index_2, column_index]\n",
    "df2.iloc[:, 3]"
   ]
  },
  {
   "cell_type": "code",
   "execution_count": null,
   "metadata": {},
   "outputs": [],
   "source": [
    "#List of integers: df.iloc[[row_index1, row_index2], [column_index1, column_index2]]\n",
    "df2.iloc[[1, 3, 5, 7], [2,3]]\n"
   ]
  },
  {
   "cell_type": "code",
   "execution_count": null,
   "metadata": {},
   "outputs": [],
   "source": [
    "#Slice of integers: df.iloc[row_index1:row_index2, column_index1:column_index2]\n",
    "df2.iloc[:4, 2:]"
   ]
  },
  {
   "cell_type": "markdown",
   "metadata": {},
   "source": [
    "<h4>Select Data by Conditions</h4>\n",
    "Instead of indexing rows and columns using integers and names, we can also obtain a sub-dataframe of our interests that satisfies certain (potentially complicated) conditions.\n"
   ]
  },
  {
   "cell_type": "code",
   "execution_count": null,
   "metadata": {},
   "outputs": [],
   "source": [
    "# complicated selection using functions\n",
    "df2.loc[df2['LivingArea'] == max(df2['LivingArea'])]"
   ]
  },
  {
   "cell_type": "code",
   "execution_count": null,
   "metadata": {},
   "outputs": [],
   "source": [
    "# using isin for conditional selection\n",
    "df2.loc[df2['YearBuilt'].isin([1961, 1965, 1969])]"
   ]
  },
  {
   "cell_type": "code",
   "execution_count": null,
   "metadata": {},
   "outputs": [],
   "source": [
    "# using multiple predicates\n",
    "df2[(df2['LivingArea'] > 2500) & (df2['LandSQFT'] < 12000)]"
   ]
  },
  {
   "cell_type": "code",
   "execution_count": null,
   "metadata": {},
   "outputs": [],
   "source": [
    "# exporting data\n",
    "df2[(df2['LivingArea'] > 2500) & (df2['LandSQFT'] < 12000)].to_csv(\".//reports//ParcelsToReview.csv\")"
   ]
  },
  {
   "cell_type": "code",
   "execution_count": null,
   "metadata": {},
   "outputs": [],
   "source": []
  }
 ],
 "metadata": {
  "kernelspec": {
   "display_name": "base",
   "language": "python",
   "name": "python3"
  },
  "language_info": {
   "codemirror_mode": {
    "name": "ipython",
    "version": 3
   },
   "file_extension": ".py",
   "mimetype": "text/x-python",
   "name": "python",
   "nbconvert_exporter": "python",
   "pygments_lexer": "ipython3",
   "version": "3.11.5"
  }
 },
 "nbformat": 4,
 "nbformat_minor": 2
}
