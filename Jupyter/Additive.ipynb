{
 "cells": [
  {
   "cell_type": "code",
   "execution_count": null,
   "id": "c2fe5b53-5bf6-4e0e-bb51-756b19215b4b",
   "metadata": {},
   "outputs": [],
   "source": [
    "import pandas as pd\n",
    "import numpy as np\n",
    "import statsmodels.api as sm\n",
    "import seaborn as sns\n",
    "import matplotlib.pyplot as plt\n",
    "import massapp as mass\n",
    "import regutil as reg\n"
   ]
  },
  {
   "cell_type": "code",
   "execution_count": null,
   "id": "f2fc905f-916e-4ad1-8a09-08c86418560f",
   "metadata": {},
   "outputs": [],
   "source": [
    "data = pd.read_spss('..\\\\SPSS\\\\Data\\\\GISValTechSampleData.sav')\n",
    "data.head()\n",
    "data['ParcelId'] = data['ParcelId'].astype(int)\n",
    "data['SaleDate'] = pd.to_datetime(data['SaleDate'])\n",
    "data['SalesPrice'] = data['SalesPrice'].astype(int)\n",
    "data['Sqft'] = data['Sqft'].astype(int)\n",
    "data['LandSize'] = data['LandSize'].astype(int)\n",
    "data['Quality'] = pd.Categorical(data['Quality'], ordered = True, categories = [\n",
    "    'Poor', 'BelowAverage', 'Average', 'AboveAverage', 'Superior'])\n",
    "data['GarageSize'] = data['GarageSize'].astype(int)\n",
    "data['EffAge'] = data['EffAge'].astype(int)\n",
    "data['NBHD'] = pd.Categorical(data['NBHD'].astype(int))\n",
    "\n",
    "data.set_index('ParcelId', inplace = True)\n",
    "data.head()"
   ]
  },
  {
   "cell_type": "code",
   "execution_count": null,
   "id": "363f28d3-4314-48ca-bc1b-34bf9b63f298",
   "metadata": {},
   "outputs": [],
   "source": [
    "data['SPPSF'] = data['SalesPrice'] / data['Sqft']\n",
    "#data.groupby(['Quality'], observed = True)['SPPSF'].describe()\n",
    "data.groupby(['Quality'], observed = True)['SPPSF'].aggregate(['count', 'mean', 'median', 'std' ])"
   ]
  },
  {
   "cell_type": "code",
   "execution_count": null,
   "id": "673680eb-32cd-4a8a-a2ba-ef1c289f5264",
   "metadata": {},
   "outputs": [],
   "source": [
    "data.groupby(['NBHD'], observed = True)['SPPSF'].aggregate(['count', 'mean', 'median', 'std' ])"
   ]
  },
  {
   "cell_type": "code",
   "execution_count": null,
   "id": "2448b9f1-6fe5-42be-b851-b8bf36552288",
   "metadata": {},
   "outputs": [],
   "source": [
    "data['SYEAR'] = data['SaleDate'].dt.year\n",
    "data['SMONTH'] = data['SaleDate'].dt.month\n",
    "data['SDATE'] = data['SaleDate'].dt.to_period('M').dt.to_timestamp()\n",
    "pd.crosstab(data['SYEAR'], data['SMONTH'])"
   ]
  },
  {
   "cell_type": "code",
   "execution_count": null,
   "id": "7678e9e3-2090-4452-a114-572e61ec19ef",
   "metadata": {},
   "outputs": [],
   "source": [
    "startdate = pd.to_datetime('1/1/2023')\n",
    "basedate = pd.to_datetime('12/31/2023')\n",
    "timeperiod = (basedate.to_period('M') - startdate.to_period('M')).n\n",
    "timeperiod"
   ]
  },
  {
   "cell_type": "code",
   "execution_count": null,
   "id": "07092116-18d6-42c3-a4da-44bcac043fc8",
   "metadata": {},
   "outputs": [],
   "source": [
    "data['Months'] = [(x - startdate.to_period('M')).n for x in data['SaleDate'].dt.to_period('M')]\n",
    "data['Month'] = timeperiod - data['Months']\n",
    "data.head()"
   ]
  },
  {
   "cell_type": "code",
   "execution_count": null,
   "id": "181589fb-7866-49c1-9e82-0aa80ec4193a",
   "metadata": {},
   "outputs": [],
   "source": [
    "modelData = pd.DataFrame({\"SalesPrice\" : data['SalesPrice'], \"const\" : 1})\n",
    "\n",
    "# Time\n",
    "modelData['MonthsSF'] = data['Months'] * data['Sqft']\n",
    "\n",
    "# Land Size\n",
    "#modelData = addContinuous(modelData, data['LandSize'], 'LN_LandSize')\n",
    "#modelData['LandSize25'] = pow(data['LandSize'], .25)\n",
    "modelData['LandSize50'] = pow(data['LandSize'], .50)\n",
    "#modelData['LandSize75'] = pow(data['LandSize'], .75)\n",
    "\n",
    "# Quality\n",
    "modelData['SQFT_Poor'] = [r['Sqft'] if r['Quality'] == 'Poor' else 0 for i, r in data.iterrows()]\n",
    "modelData['SQFT_BelowAverage'] = [r['Sqft'] if r['Quality'] == 'BelowAverage' else 0 for i, r in data.iterrows()]\n",
    "modelData['SQFT_Average'] = [r['Sqft'] if r['Quality'] == 'Average' else 0 for i, r in data.iterrows()]\n",
    "modelData['SQFT_AboveAverage'] = [r['Sqft'] if r['Quality'] == 'AboveAverage' else 0 for i, r in data.iterrows()]\n",
    "modelData['SQFT_Superior'] = [r['Sqft'] if r['Quality'] == 'Superior' else 0 for i, r in data.iterrows()]\n",
    "\n",
    "# Bathrooms\n",
    "modelData['Bathrooms'] = data['Bathrooms']\n",
    "\n",
    "# EffAge\n",
    "def effAgeAdj(effAge):\n",
    "    if effAge < 0:\n",
    "        return 0\n",
    "    elif effAge > 60:\n",
    "        return 60\n",
    "    return effAge\n",
    "\n",
    "modelData['EffageSF75'] = [effAgeAdj(r['EffAge']) * pow(r['Sqft'], .75) for i, r in data.iterrows()]\n",
    "\n",
    "# GarageSize\n",
    "modelData['GarageSize'] = data['GarageSize']\n",
    "\n",
    "# NBHD\n",
    "modelData = reg.add_binaries(modelData, data['NBHD'], 'NBHD_105', 'NBHD', min_sales = 6)\n",
    "\n",
    "modelData.sample(10)"
   ]
  },
  {
   "cell_type": "code",
   "execution_count": null,
   "id": "276e7ff5-3da7-4d5d-a7f4-43d2ef98834b",
   "metadata": {},
   "outputs": [],
   "source": [
    "col = ['SalesPrice', 'const', 'NBHD_104', 'SQFT_Average', 'Bathrooms', 'EffageSF75', 'SQFT_Poor', 'MonthsSF', 'NBHD_102', 'SQFT_Superior', 'GarageSize', 'SQFT_BelowAverage', 'NBHD_103', 'LandSize50', 'SQFT_AboveAverage', 'NBHD_101']\n",
    "modelData = modelData.reindex(columns=col)\n",
    "modelData.head()"
   ]
  },
  {
   "cell_type": "code",
   "execution_count": null,
   "id": "4fdbd293-714c-4a5e-a778-b5a6cb79970e",
   "metadata": {},
   "outputs": [],
   "source": [
    "# This assumes dependent variable is in the first column\n",
    "while True:\n",
    "    model = sm.OLS(\n",
    "        modelData.iloc[:, 0],\n",
    "        modelData.drop(modelData.columns[0], axis = 1)\n",
    "    ).fit()\n",
    "    ix = model.pvalues[model.pvalues.index != 'const'].idxmax()\n",
    "    if(model.pvalues[ix] <= .10):\n",
    "        break\n",
    "    else:\n",
    "        print(\"Dropping {0} p-value: {1} \".format(str(ix), model.pvalues[ix].round(3)))\n",
    "        modelData.drop(columns = ix, inplace = True)\n",
    "\n",
    "model.summary2()"
   ]
  },
  {
   "cell_type": "code",
   "execution_count": null,
   "id": "e6d3d7f0-34be-45ba-8270-48a9d214d620",
   "metadata": {},
   "outputs": [],
   "source": [
    "model.params"
   ]
  },
  {
   "cell_type": "code",
   "execution_count": null,
   "id": "a9dbe172-d2f6-458b-b300-1db7e7b74256",
   "metadata": {},
   "outputs": [],
   "source": [
    "data['ESP'] = model.fittedvalues.astype(int)\n",
    "data['Ratio'] = data['ESP'] / data['SalesPrice']\n",
    "data.head()"
   ]
  },
  {
   "cell_type": "code",
   "execution_count": null,
   "id": "f9b3efb7-1332-4713-adde-addbc83a8256",
   "metadata": {},
   "outputs": [],
   "source": [
    "mass.PRB(data['ESP'], data['SalesPrice'], show_graph = True)"
   ]
  },
  {
   "cell_type": "code",
   "execution_count": null,
   "id": "301190ab-04db-4bb4-9a10-e9ad742de4f3",
   "metadata": {},
   "outputs": [],
   "source": [
    "mass.ratio_statistics(data, group = 'SYEAR', predicted_value_column='ESP', sales_price_column='SalesPrice')"
   ]
  },
  {
   "cell_type": "code",
   "execution_count": null,
   "id": "f86a5a60-7627-41ba-9d5f-4d2250a43aef",
   "metadata": {},
   "outputs": [],
   "source": [
    "p = sns.lmplot(x='Months', y='Ratio', data = data, lowess = True, line_kws={'color': 'red'})\n",
    "p.figure.set_figwidth(8)\n",
    "p.figure.set_figheight(4)\n",
    "p.ax.set_title(\"Ratio by SaleDate\")\n",
    "p.ax.ticklabel_format(useOffset=False)\n",
    "label = [x.strftime('%b %Y') for x in data.sort_values(by='SaleDate')[\"SDATE\"].unique()]\n",
    "p.ax.set_xticks(range(len(label)), labels=label)\n",
    "p.ax.tick_params(axis=\"x\", labelrotation=45)\n",
    "plt.axhline(y=1.00, color = 'black')"
   ]
  },
  {
   "cell_type": "code",
   "execution_count": null,
   "id": "ce510afc-8247-4dd5-9a38-e37fa2ecbab5",
   "metadata": {},
   "outputs": [],
   "source": [
    "p = sns.lmplot(x='Sqft', y='Ratio', data = data, lowess = True, line_kws={'color': 'red'})\n",
    "p.figure.set_figwidth(8)\n",
    "p.figure.set_figheight(4)\n",
    "p.ax.set_title(\"Ratio by Sqft\")\n",
    "p.ax.ticklabel_format(useOffset=False)\n",
    "plt.axhline(y=1.00, color = 'black')"
   ]
  },
  {
   "cell_type": "code",
   "execution_count": null,
   "id": "191a6e5a-ca75-48ee-8e24-d837891824f6",
   "metadata": {},
   "outputs": [],
   "source": [
    "p = sns.lmplot(x='LandSize', y='Ratio', data = data, lowess = True, line_kws={'color': 'red'})\n",
    "p.figure.set_figwidth(8)\n",
    "p.figure.set_figheight(4)\n",
    "p.ax.set_title(\"Ratio by LandSize\")\n",
    "p.ax.ticklabel_format(useOffset=False)\n",
    "plt.axhline(y=1.00, color = 'black')"
   ]
  },
  {
   "cell_type": "code",
   "execution_count": null,
   "id": "f47f1b69-fbe1-49f9-8121-4119825e3417",
   "metadata": {},
   "outputs": [],
   "source": [
    "p = sns.lmplot(x='EffAge', y='Ratio', data = data, lowess = True, line_kws={'color': 'red'})\n",
    "p.figure.set_figwidth(8)\n",
    "p.figure.set_figheight(4)\n",
    "p.ax.set_title(\"Ratio by EffAge\")\n",
    "p.ax.ticklabel_format(useOffset=False)\n",
    "plt.axhline(y=1.00, color = 'black')"
   ]
  },
  {
   "cell_type": "code",
   "execution_count": null,
   "id": "22174772-5bf4-4606-a097-601afb58c2a3",
   "metadata": {},
   "outputs": [],
   "source": [
    "p = sns.lmplot(x='Bathrooms', y='Ratio', data = data, lowess = True, line_kws={'color': 'red'})\n",
    "p.figure.set_figwidth(8)\n",
    "p.figure.set_figheight(4)\n",
    "p.ax.set_title(\"Ratio by Bathrooms\")\n",
    "p.ax.ticklabel_format(useOffset=False)\n",
    "plt.axhline(y=1.00, color = 'black')"
   ]
  },
  {
   "cell_type": "code",
   "execution_count": null,
   "id": "a02c36b5-b0f4-45d8-80dc-0fc103738974",
   "metadata": {},
   "outputs": [],
   "source": [
    "p = sns.lmplot(x='GarageSize', y='Ratio', data = data, lowess = True, line_kws={'color': 'red'})\n",
    "p.figure.set_figwidth(8)\n",
    "p.figure.set_figheight(4)\n",
    "p.ax.set_title(\"Ratio by GarageSize\")\n",
    "p.ax.ticklabel_format(useOffset=False)\n",
    "plt.axhline(y=1.00, color = 'black')"
   ]
  },
  {
   "cell_type": "code",
   "execution_count": null,
   "id": "60f6e9c4-1ed6-4061-9853-517f8cef4311",
   "metadata": {},
   "outputs": [],
   "source": [
    "mass.ratio_statistics(data, group='Quality', predicted_value_column=\"ESP\", sales_price_column=\"SalesPrice\")"
   ]
  },
  {
   "cell_type": "code",
   "execution_count": null,
   "id": "721f1a30-4002-4e55-b4f8-843c4e06dfe6",
   "metadata": {},
   "outputs": [],
   "source": [
    "mass.ratio_statistics(data, group='NBHD', predicted_value_column=\"ESP\", sales_price_column=\"SalesPrice\")"
   ]
  },
  {
   "cell_type": "code",
   "execution_count": null,
   "id": "dec8ded8-8947-4a1d-a594-8e5b04eddec9",
   "metadata": {},
   "outputs": [],
   "source": [
    "t = mass.ratio_statistics(data, 'SDATE', predicted_value_column=\"ESP\", sales_price_column=\"SalesPrice\")\n",
    "t.index = t.index.strftime('%b %Y')\n",
    "t"
   ]
  },
  {
   "cell_type": "code",
   "execution_count": null,
   "id": "d9f2183a-6f7c-454f-a83e-eb3d1fd72c5b",
   "metadata": {},
   "outputs": [],
   "source": [
    "data.loc[(data['Ratio'] >= 1.5) | (data['Ratio'] <= .75), ]"
   ]
  },
  {
   "cell_type": "code",
   "execution_count": null,
   "id": "df7286fd-d734-487d-ae91-9572b14d3db7",
   "metadata": {},
   "outputs": [],
   "source": [
    "data.loc[(data['Ratio'] >= 1.5) | (data['Ratio'] <= .75), ].to_excel('.\\\\reports\\\\additivebadratio.xlsx')"
   ]
  },
  {
   "cell_type": "code",
   "execution_count": null,
   "id": "5397a2e0-7184-4e14-89e6-7f289502e4e5",
   "metadata": {},
   "outputs": [],
   "source": []
  }
 ],
 "metadata": {
  "kernelspec": {
   "display_name": "base",
   "language": "python",
   "name": "python3"
  },
  "language_info": {
   "codemirror_mode": {
    "name": "ipython",
    "version": 3
   },
   "file_extension": ".py",
   "mimetype": "text/x-python",
   "name": "python",
   "nbconvert_exporter": "python",
   "pygments_lexer": "ipython3",
   "version": "3.11.7"
  }
 },
 "nbformat": 4,
 "nbformat_minor": 5
}
