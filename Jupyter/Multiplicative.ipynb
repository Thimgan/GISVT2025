{
 "cells": [
  {
   "cell_type": "code",
   "execution_count": null,
   "id": "c0a8edc4",
   "metadata": {},
   "outputs": [],
   "source": [
    "import pandas as pd\n",
    "import numpy as np\n",
    "import statsmodels.api as sm\n",
    "import seaborn as sns\n",
    "import matplotlib.pyplot as plt\n",
    "import massapp as mass\n",
    "import regutil as reg\n"
   ]
  },
  {
   "cell_type": "code",
   "execution_count": null,
   "id": "5f2b297b",
   "metadata": {},
   "outputs": [],
   "source": [
    "data = pd.read_spss('..\\\\SPSS\\\\data\\\\GISValTechSampleData.sav')\n",
    "data.head()\n",
    "data['ParcelId'] = data['ParcelId'].astype(int)\n",
    "data['SaleDate'] = pd.to_datetime(data['SaleDate'])\n",
    "data['SalesPrice'] = data['SalesPrice'].astype(int)\n",
    "data['Sqft'] = data['Sqft'].astype(int)\n",
    "data['LandSize'] = data['LandSize'].astype(int)\n",
    "data['Quality'] = pd.Categorical(data['Quality'], ordered = True, categories = [\n",
    "    'Poor', 'BelowAverage', 'Average', 'AboveAverage', 'Superior'])\n",
    "data['GarageSize'] = data['GarageSize'].astype(int)\n",
    "data['EffAge'] = data['EffAge'].astype(int)\n",
    "data['NBHD'] = pd.Categorical(data['NBHD'].astype(int))\n",
    "\n",
    "data.set_index('ParcelId', inplace = True)\n",
    "data.head()"
   ]
  },
  {
   "cell_type": "code",
   "execution_count": null,
   "id": "de63798b",
   "metadata": {},
   "outputs": [],
   "source": [
    "data['SPPSF'] = data['SalesPrice'] / data['Sqft']\n",
    "#data.groupby(['Quality'], observed = True)['SPPSF'].describe()\n",
    "data.groupby(['Quality'], observed = True)['SPPSF'].aggregate(['count', 'mean', 'median', 'std' ])"
   ]
  },
  {
   "cell_type": "code",
   "execution_count": null,
   "id": "d9286e4a",
   "metadata": {},
   "outputs": [],
   "source": [
    "data.groupby(['NBHD'], observed = True)['SPPSF'].aggregate(['count', 'mean', 'median', 'std' ])"
   ]
  },
  {
   "cell_type": "code",
   "execution_count": null,
   "id": "d2b365ce-4ae3-4785-b1b6-459b51d9c101",
   "metadata": {},
   "outputs": [],
   "source": [
    "data['SYEAR'] = data['SaleDate'].dt.year\n",
    "data['SMONTH'] = data['SaleDate'].dt.month\n",
    "data['SDATE'] = data['SaleDate'].dt.to_period('M').dt.to_timestamp()\n",
    "pd.crosstab(data['SYEAR'], data['SMONTH'])"
   ]
  },
  {
   "cell_type": "code",
   "execution_count": null,
   "id": "7d807f6e",
   "metadata": {},
   "outputs": [],
   "source": [
    "startdate = pd.to_datetime('1/1/2023')\n",
    "basedate = pd.to_datetime('12/31/2023')\n",
    "timeperiod = (basedate.to_period('M') - startdate.to_period('M')).n\n",
    "timeperiod"
   ]
  },
  {
   "cell_type": "code",
   "execution_count": null,
   "id": "ed44ac57",
   "metadata": {},
   "outputs": [],
   "source": [
    "data['Months'] = [(x - startdate.to_period('M')).n for x in data['SaleDate'].dt.to_period('M')]\n",
    "data['Month'] = timeperiod - data['Months']\n",
    "data.head()\n"
   ]
  },
  {
   "cell_type": "code",
   "execution_count": null,
   "id": "6b78ccfa",
   "metadata": {},
   "outputs": [],
   "source": [
    "def calculatePctGood(eff_age: int) -> float:\n",
    "    if eff_age < 0:\n",
    "        eff_age = 0\n",
    "    elif eff_age > 60:\n",
    "        eff_age = 60    \n",
    "    return round(1 - (eff_age / 100), 2)\n",
    "        \n",
    "data['Pct_Good'] = data['EffAge'].apply(calculatePctGood)\n",
    "data.head()\n",
    "    "
   ]
  },
  {
   "cell_type": "code",
   "execution_count": null,
   "id": "95b6c215",
   "metadata": {},
   "outputs": [],
   "source": [
    "model_data = pd.DataFrame({\"LN_SalesPrice\" : np.log(data['SalesPrice']), \"const\" : 1.00})\n",
    "model_data = pd.concat([model_data, data['Months']], axis = 1 )\n",
    "model_data = reg.add_continuous(model_data, data['Sqft'], 'LN_Sqft')\n",
    "model_data = reg.add_continuous(model_data, data['LandSize'], 'LN_LandSize')\n",
    "model_data = reg.add_binaries(model_data, data['Quality'], 'Quality_Average', 'Quality', min_sales = 6)\n",
    "model_data = reg.add_continuous(model_data, data['Bathrooms'], 'LN_Bathrooms')\n",
    "model_data = reg.add_continuous(model_data, data['Pct_Good'], 'LN_Pct_Good')\n",
    "model_data = reg.add_continuous(model_data, data['GarageSize'], 'LN_GarageSize')\n",
    "#modelData = reg.add_continuous(modelData, data['GarageSize'] / 480, 'LN_GarageSize_Ratio')\n",
    "model_data = reg.add_binaries(model_data, data['NBHD'], 'NBHD_103', 'NBHD', min_sales = 6)\n",
    "model_data"
   ]
  },
  {
   "cell_type": "code",
   "execution_count": null,
   "id": "738abc56",
   "metadata": {},
   "outputs": [],
   "source": [
    "# This assumes dependent variable is in the first column\n",
    "while True:\n",
    "    model = sm.OLS(\n",
    "        model_data.iloc[:, 0],\n",
    "        model_data.drop(model_data.columns[0], axis = 1)\n",
    "    ).fit()\n",
    "    ix = model.pvalues[model.pvalues.index != 'const'].idxmax()\n",
    "    if(model.pvalues[ix] <= .05):\n",
    "        break\n",
    "    else:\n",
    "        print(\"Dropping {0} p-value: {1} \".format(str(ix), model.pvalues[ix].round(3)))\n",
    "        model_data.drop(columns = ix, inplace = True)\n",
    "\n",
    "model.summary()"
   ]
  },
  {
   "cell_type": "code",
   "execution_count": null,
   "id": "1a1c0e82",
   "metadata": {},
   "outputs": [],
   "source": [
    "model.params"
   ]
  },
  {
   "cell_type": "code",
   "execution_count": null,
   "id": "6f87d5ec-cc6d-44ae-99bb-23eec4906556",
   "metadata": {},
   "outputs": [],
   "source": [
    "# In statsmodels, \"BSE\" stands for \"Standard Error of the coefficient\"; \n",
    "# it represents the estimated standard deviation of a regression coefficient, indicating how much \n",
    "# the coefficient is likely to vary if the analysis was repeated with a different sample \n",
    "# from the population. \n",
    "model.bse"
   ]
  },
  {
   "cell_type": "code",
   "execution_count": null,
   "id": "d2f96814",
   "metadata": {},
   "outputs": [],
   "source": [
    "reg.get_parameter_coverage(model_data)"
   ]
  },
  {
   "cell_type": "code",
   "execution_count": null,
   "id": "66f3f64b",
   "metadata": {},
   "outputs": [],
   "source": [
    "data['ESP'] = reg.estimate_parcel_value(model_data, model.params ).astype(int)\n",
    "data['Ratio'] = round((data['ESP'] / data['SalesPrice']), 2)\n",
    "data.head()"
   ]
  },
  {
   "cell_type": "code",
   "execution_count": null,
   "id": "a556a526-fe04-4210-85d5-84efc1814de5",
   "metadata": {},
   "outputs": [],
   "source": [
    "#PRB is centered around 0 and has a generally accepted value of between -0.05 and 0.05 and statically significant\n",
    "#As defined in the IAAO Standard on Ratio Studies Section 9.2.7. \n",
    "#Higher PRB values indicate progressivity in assessment, while negative values indicate regressivity.\n",
    "#The default significance level is 0.05\n",
    "mass.PRB(data['ESP'], data['SalesPrice'], show_graph = True)"
   ]
  },
  {
   "cell_type": "code",
   "execution_count": null,
   "id": "541bcdb4",
   "metadata": {},
   "outputs": [],
   "source": [
    "mass.ratio_statistics(data, 'NBHD', 'ESP', 'SalesPrice')"
   ]
  },
  {
   "cell_type": "code",
   "execution_count": null,
   "id": "f06b6d49-3206-4152-841f-423a5c25eaa1",
   "metadata": {},
   "outputs": [],
   "source": [
    "mass.ratio_statistics(data, 'SDATE', 'ESP', 'SalesPrice')"
   ]
  },
  {
   "cell_type": "code",
   "execution_count": null,
   "id": "07059a6a-20e2-4440-b6eb-922e691a19c2",
   "metadata": {},
   "outputs": [],
   "source": [
    "p = sns.lmplot(x='Months', y='Ratio', data = data, lowess = True, line_kws={'color': 'red'})\n",
    "p.figure.set_figwidth(8)\n",
    "p.figure.set_figheight(4)\n",
    "p.ax.set_title(\"Ratio by SaleDate\")\n",
    "p.ax.ticklabel_format(useOffset=False)\n",
    "label = [x.strftime('%b %Y') for x in data.sort_values(by='SaleDate')[\"SDATE\"].unique()]\n",
    "p.ax.set_xticks(range(len(label)), labels=label)\n",
    "p.ax.tick_params(axis=\"x\", labelrotation=45)\n",
    "plt.axhline(y=1.00, color = 'black')"
   ]
  },
  {
   "cell_type": "code",
   "execution_count": null,
   "id": "c5586cb8-4f3e-48f2-bbd8-5073c3fb15c7",
   "metadata": {},
   "outputs": [],
   "source": [
    "p = sns.lmplot(x='Sqft', y='Ratio', data = data, lowess = True, line_kws={'color': 'red'})\n",
    "p.figure.set_figwidth(8)\n",
    "p.figure.set_figheight(4)\n",
    "p.ax.set_title(\"Ratio by Sqft\")\n",
    "p.ax.ticklabel_format(useOffset=False)\n",
    "plt.axhline(y=1.00, color = 'black')"
   ]
  },
  {
   "cell_type": "code",
   "execution_count": null,
   "id": "c1ac8103-1b10-410d-9ef7-c297deb54413",
   "metadata": {},
   "outputs": [],
   "source": [
    "p = sns.lmplot(x='LandSize', y='Ratio', data = data, lowess = True, line_kws={'color': 'red'})\n",
    "p.figure.set_figwidth(8)\n",
    "p.figure.set_figheight(4)\n",
    "p.ax.set_title(\"Ratio by LandSize\")\n",
    "p.ax.ticklabel_format(useOffset=False)\n",
    "plt.axhline(y=1.00, color = 'black')"
   ]
  },
  {
   "cell_type": "code",
   "execution_count": null,
   "id": "9092573c-5e74-4801-a9ff-af7fcc0125a8",
   "metadata": {},
   "outputs": [],
   "source": [
    "p = sns.lmplot(x='EffAge', y='Ratio', data = data, lowess = True, line_kws={'color': 'red'})\n",
    "p.figure.set_figwidth(8)\n",
    "p.figure.set_figheight(4)\n",
    "p.ax.set_title(\"Ratio by EffAge\")\n",
    "p.ax.ticklabel_format(useOffset=False)\n",
    "plt.axhline(y=1.00, color = 'black')"
   ]
  },
  {
   "cell_type": "code",
   "execution_count": null,
   "id": "48d9e775-5272-417a-8442-92690eb78286",
   "metadata": {},
   "outputs": [],
   "source": [
    "p = sns.lmplot(x='Bathrooms', y='Ratio', data = data, lowess = True, line_kws={'color': 'red'})\n",
    "p.figure.set_figwidth(8)\n",
    "p.figure.set_figheight(4)\n",
    "p.ax.set_title(\"Ratio by Bathrooms\")\n",
    "p.ax.ticklabel_format(useOffset=False)\n",
    "plt.axhline(y=1.00, color = 'black')"
   ]
  },
  {
   "cell_type": "code",
   "execution_count": null,
   "id": "bef0fd9c-d8a7-4b0d-9ff1-dbdaf0caf533",
   "metadata": {},
   "outputs": [],
   "source": [
    "p = sns.lmplot(x='GarageSize', y='Ratio', data = data, lowess = True, line_kws={'color': 'red'})\n",
    "p.figure.set_figwidth(8)\n",
    "p.figure.set_figheight(4)\n",
    "p.ax.set_title(\"Ratio by GarageSize\")\n",
    "p.ax.ticklabel_format(useOffset=False)\n",
    "plt.axhline(y=1.00, color = 'black')"
   ]
  },
  {
   "cell_type": "code",
   "execution_count": null,
   "id": "db0d08ea-438a-4bb1-9357-efd76fd7646f",
   "metadata": {},
   "outputs": [],
   "source": [
    "data.groupby('Quality', observed=True)['Ratio'].describe()"
   ]
  },
  {
   "cell_type": "code",
   "execution_count": null,
   "id": "6fa3a935",
   "metadata": {},
   "outputs": [],
   "source": [
    "data.groupby(['Quality'], observed = True)['Ratio'].aggregate(['count', 'mean', 'median', 'min', 'max' ])"
   ]
  },
  {
   "cell_type": "code",
   "execution_count": null,
   "id": "f4b0b2fe-5007-4615-a54b-fa38494baf50",
   "metadata": {},
   "outputs": [],
   "source": [
    "data.loc[(data['Ratio'] >= 1.5) | (data['Ratio'] <= .75), ]"
   ]
  },
  {
   "cell_type": "code",
   "execution_count": null,
   "id": "0574dd59-0975-42e2-828f-57ed3cf7cae9",
   "metadata": {},
   "outputs": [],
   "source": [
    "data.loc[(data['Ratio'] >= 1.5) | (data['Ratio'] <= .75), ].to_excel('.\\\\reports\\\\multiplicativebadratio.xlsx')"
   ]
  },
  {
   "cell_type": "code",
   "execution_count": null,
   "id": "88065fc7-d3ee-44e9-ba46-5faa9f8d9662",
   "metadata": {},
   "outputs": [],
   "source": []
  }
 ],
 "metadata": {
  "kernelspec": {
   "display_name": "base",
   "language": "python",
   "name": "python3"
  },
  "language_info": {
   "codemirror_mode": {
    "name": "ipython",
    "version": 3
   },
   "file_extension": ".py",
   "mimetype": "text/x-python",
   "name": "python",
   "nbconvert_exporter": "python",
   "pygments_lexer": "ipython3",
   "version": "3.11.7"
  }
 },
 "nbformat": 4,
 "nbformat_minor": 5
}
